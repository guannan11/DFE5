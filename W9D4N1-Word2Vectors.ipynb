{
  "nbformat": 4,
  "nbformat_minor": 0,
  "metadata": {
    "colab": {
      "name": "09 Word2Vectors.ipynb",
      "provenance": [],
      "include_colab_link": true
    },
    "kernelspec": {
      "name": "python3",
      "display_name": "Python 3"
    }
  },
  "cells": [
    {
      "cell_type": "markdown",
      "metadata": {
        "id": "view-in-github",
        "colab_type": "text"
      },
      "source": [
        "<a href=\"https://colab.research.google.com/github/guannan11/DFE5/blob/main/W9D4-Word2Vectors.ipynb\" target=\"_parent\"><img src=\"https://colab.research.google.com/assets/colab-badge.svg\" alt=\"Open In Colab\"/></a>"
      ]
    },
    {
      "cell_type": "code",
      "metadata": {
        "id": "8Pcgpfvz0RGb"
      },
      "source": [
        "import numpy as np"
      ],
      "execution_count": 5,
      "outputs": []
    },
    {
      "cell_type": "code",
      "metadata": {
        "id": "147TqC9T0cg5",
        "colab": {
          "base_uri": "https://localhost:8080/",
          "height": 35
        },
        "outputId": "25a9347c-68cf-4afb-fd42-91e8725722f1"
      },
      "source": [
        "# BODY -> body of string from which we will dervice our vectors\n",
        "corpus_raw = 'Richie Rich is rich. The rich person is a happy person. He and She are not rich.'\n",
        "corpus_lower = corpus_raw.lower()\n",
        "corpus_lower"
      ],
      "execution_count": 6,
      "outputs": [
        {
          "output_type": "execute_result",
          "data": {
            "application/vnd.google.colaboratory.intrinsic+json": {
              "type": "string"
            },
            "text/plain": [
              "'richie rich is rich. the rich person is a happy person. he and she are not rich.'"
            ]
          },
          "metadata": {},
          "execution_count": 6
        }
      ]
    },
    {
      "cell_type": "code",
      "metadata": {
        "id": "tB1pYErB05gb",
        "colab": {
          "base_uri": "https://localhost:8080/"
        },
        "outputId": "e271f329-6ad2-4dfa-e92f-df02fe188028"
      },
      "source": [
        "words = []\n",
        "for word in corpus_lower.split():\n",
        "  if word == '.': # independent punctuation (not directly next to a word)\n",
        "    # if punctuation is not individual word but a part of word-> bye.\n",
        "    word = word.replace('.', '') # every punctuation that we don't want should be filtered here\n",
        "    words.append(word)\n",
        "  else:\n",
        "    words.append(word)\n",
        "\n",
        "print(words)\n",
        "# TO CONVERT TO VECTORS , we don't want repeating! \n",
        "# Which DS allows us to avoid repeating? SET!!\n",
        "print(len(words))\n",
        "unique_words = set(words)\n",
        "print(unique_words)\n",
        "print(len(unique_words))"
      ],
      "execution_count": 7,
      "outputs": [
        {
          "output_type": "stream",
          "name": "stdout",
          "text": [
            "['richie', 'rich', 'is', 'rich.', 'the', 'rich', 'person', 'is', 'a', 'happy', 'person.', 'he', 'and', 'she', 'are', 'not', 'rich.']\n",
            "17\n",
            "{'are', 'is', 'rich', 'she', 'rich.', 'he', 'the', 'richie', 'a', 'happy', 'person.', 'person', 'not', 'and'}\n",
            "14\n"
          ]
        }
      ]
    },
    {
      "cell_type": "code",
      "metadata": {
        "id": "DjOiG1jl1i1m",
        "colab": {
          "base_uri": "https://localhost:8080/"
        },
        "outputId": "5bf62cc8-dd4a-49c7-ecd1-e17e90c166cb"
      },
      "source": [
        "word2int = {} # this was wht we had in imdb yesterday (word_index)\n",
        "int2word = {}\n",
        "vocab_size = len(unique_words)\n",
        "for i,word in enumerate(unique_words):\n",
        "  # 0,word1 - 1,word2 - 2, word3\n",
        "  word2int[word] =i \n",
        "  int2word[i] = word\n",
        "\n",
        "print(word2int)\n",
        "print(int2word)\n",
        "print(word2int['rich'])"
      ],
      "execution_count": 31,
      "outputs": [
        {
          "output_type": "stream",
          "name": "stdout",
          "text": [
            "{'are': 0, 'is': 1, 'rich': 2, 'she': 3, 'rich.': 4, 'he': 5, 'the': 6, 'richie': 7, 'a': 8, 'happy': 9, 'person.': 10, 'person': 11, 'not': 12, 'and': 13}\n",
            "{0: 'are', 1: 'is', 2: 'rich', 3: 'she', 4: 'rich.', 5: 'he', 6: 'the', 7: 'richie', 8: 'a', 9: 'happy', 10: 'person.', 11: 'person', 12: 'not', 13: 'and'}\n",
            "2\n"
          ]
        }
      ]
    },
    {
      "cell_type": "code",
      "metadata": {
        "id": "cKxVFQtT23IR",
        "colab": {
          "base_uri": "https://localhost:8080/"
        },
        "outputId": "68ae4c61-5dbd-4d89-fdc1-6a827dc083e1"
      },
      "source": [
        "# Challenge-> Convert above steps to a lambda function for dictionary reversal \n",
        "# the first dictionary-> make it with loop \n",
        "word3int ={}\n",
        "int3word = {}\n",
        "for i,word in reversed(list(enumerate(unique_words))):\n",
        "    word3int[word] =i \n",
        "    int3word[i] = word\n",
        "\n",
        "print(word3int)\n",
        "print(int3word)   \n",
        "\n",
        "\n",
        "\n"
      ],
      "execution_count": 41,
      "outputs": [
        {
          "output_type": "stream",
          "name": "stdout",
          "text": [
            "{'and': 13, 'not': 12, 'person': 11, 'person.': 10, 'happy': 9, 'a': 8, 'richie': 7, 'the': 6, 'he': 5, 'rich.': 4, 'she': 3, 'rich': 2, 'is': 1, 'are': 0}\n",
            "{13: 'and', 12: 'not', 11: 'person', 10: 'person.', 9: 'happy', 8: 'a', 7: 'richie', 6: 'the', 5: 'he', 4: 'rich.', 3: 'she', 2: 'rich', 1: 'is', 0: 'are'}\n"
          ]
        }
      ]
    },
    {
      "cell_type": "code",
      "source": [
        "# or list comprehension\n",
        "comprehension_words = { words:i for i,words in word2int.items()}\n",
        "comprehension_words"
      ],
      "metadata": {
        "id": "JikydGxyBJNK",
        "outputId": "a3865f2b-2382-4a52-bd46-33cc21e423c4",
        "colab": {
          "base_uri": "https://localhost:8080/"
        }
      },
      "execution_count": 24,
      "outputs": [
        {
          "output_type": "execute_result",
          "data": {
            "text/plain": [
              "{0: 'are',\n",
              " 1: 'is',\n",
              " 2: 'rich',\n",
              " 3: 'she',\n",
              " 4: 'rich.',\n",
              " 5: 'he',\n",
              " 6: 'the',\n",
              " 7: 'richie',\n",
              " 8: 'a',\n",
              " 9: 'happy',\n",
              " 10: 'person.',\n",
              " 11: 'person',\n",
              " 12: 'not',\n",
              " 13: 'and'}"
            ]
          },
          "metadata": {},
          "execution_count": 24
        }
      ]
    },
    {
      "cell_type": "code",
      "source": [
        "# the second dictionary-> use lambda \n",
        "word2int = {word:idx for idx, word in enumerate(unique_words)}\n",
        "int2word = dict(map(lambda kv: (kv[1], kv[0]), word2int.items()))\n"
      ],
      "metadata": {
        "id": "qzJeAEm8Eas6",
        "outputId": "056d3b64-3f17-401e-b9a7-3c436877ed39",
        "colab": {
          "base_uri": "https://localhost:8080/"
        }
      },
      "execution_count": 22,
      "outputs": [
        {
          "output_type": "stream",
          "name": "stdout",
          "text": [
            "{'are': 0, 'is': 1, 'rich': 2, 'she': 3, 'rich.': 4, 'he': 5, 'the': 6, 'richie': 7, 'a': 8, 'happy': 9, 'person.': 10, 'person': 11, 'not': 12, 'and': 13}\n",
            "{0: 'are', 1: 'is', 2: 'rich', 3: 'she', 4: 'rich.', 5: 'he', 6: 'the', 7: 'richie', 8: 'a', 9: 'happy', 10: 'person.', 11: 'person', 12: 'not', 13: 'and'}\n"
          ]
        },
        {
          "output_type": "execute_result",
          "data": {
            "text/plain": [
              "{0: 'are',\n",
              " 1: 'is',\n",
              " 2: 'rich',\n",
              " 3: 'she',\n",
              " 4: 'rich.',\n",
              " 5: 'he',\n",
              " 6: 'the',\n",
              " 7: 'richie',\n",
              " 8: 'a',\n",
              " 9: 'happy',\n",
              " 10: 'person.',\n",
              " 11: 'person',\n",
              " 12: 'not',\n",
              " 13: 'and'}"
            ]
          },
          "metadata": {},
          "execution_count": 22
        }
      ]
    }
  ]
}
