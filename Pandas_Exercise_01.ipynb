{
  "nbformat": 4,
  "nbformat_minor": 0,
  "metadata": {
    "colab": {
      "name": "Pandas Exercise.ipynb",
      "provenance": [],
      "authorship_tag": "ABX9TyP/KcquP9ckdF0YCYvwpr1z",
      "include_colab_link": true
    },
    "kernelspec": {
      "name": "python3",
      "display_name": "Python 3"
    },
    "language_info": {
      "name": "python"
    }
  },
  "cells": [
    {
      "cell_type": "markdown",
      "metadata": {
        "id": "view-in-github",
        "colab_type": "text"
      },
      "source": [
        "<a href=\"https://colab.research.google.com/github/guannan11/DFE5/blob/main/Pandas_Exercise.ipynb\" target=\"_parent\"><img src=\"https://colab.research.google.com/assets/colab-badge.svg\" alt=\"Open In Colab\"/></a>"
      ]
    },
    {
      "cell_type": "code",
      "execution_count": 16,
      "metadata": {
        "colab": {
          "base_uri": "https://localhost:8080/"
        },
        "id": "mvSzD0FcjMs2",
        "outputId": "19c4bfa2-2e2f-4de7-9bb0-c6717601c87e"
      },
      "outputs": [
        {
          "output_type": "stream",
          "name": "stdout",
          "text": [
            "(4622, 5)\n",
            "4622\n",
            "<class 'pandas.core.frame.DataFrame'>\n",
            "RangeIndex: 4622 entries, 0 to 4621\n",
            "Data columns (total 5 columns):\n",
            " #   Column              Non-Null Count  Dtype \n",
            "---  ------              --------------  ----- \n",
            " 0   order_id            4622 non-null   int64 \n",
            " 1   quantity            4622 non-null   int64 \n",
            " 2   item_name           4622 non-null   object\n",
            " 3   choice_description  3376 non-null   object\n",
            " 4   item_price          4622 non-null   object\n",
            "dtypes: int64(2), object(3)\n",
            "memory usage: 180.7+ KB\n",
            "Revenue was: &39237.02\n"
          ]
        },
        {
          "output_type": "execute_result",
          "data": {
            "text/plain": [
              "50"
            ]
          },
          "metadata": {},
          "execution_count": 16
        }
      ],
      "source": [
        "# 1.import libraries\n",
        "import numpy as np\n",
        "import pandas as pd\n",
        "\n",
        "# 3.assign it to chipo (variable)\n",
        "url = 'https://raw.githubusercontent.com/justmarkham/DAT8/master/data/chipotle.tsv'\n",
        "chipo = pd.read_csv(url, sep = '\\t') # \\t -> tab, \\n -> new line\n",
        "\n",
        "# 4.see fisrt 10 entires\n",
        "chipo.head(10)\n",
        "\n",
        "# 5.dataset dimensions \n",
        "print(chipo.shape)\n",
        "print(chipo.shape[0])\n",
        "\n",
        "# or\n",
        "chipo.info()\n",
        "\n",
        "# 6.how many columns\n",
        "chipo.shape[1]\n",
        "\n",
        "# 7.names of columns\n",
        "chipo.columns\n",
        "\n",
        "# 8.index\n",
        "chipo.index\n",
        "\n",
        "# 9 & 10. most ordered item and how many\n",
        "c = chipo.groupby('item_name')\n",
        "c = c.sum()\n",
        "c = c.sort_values(['quantity'], ascending=False)\n",
        "c.head(1)\n",
        "\n",
        "# 11 the most ordered item in the choice_description column\n",
        "c = chipo.groupby('choice_description').sum()\n",
        "c = c.sort_values(['quantity'], ascending=False)\n",
        "c.head(1)\n",
        "\n",
        "# 12.Items ordered in total\n",
        "total_items_orders = chipo.quantity.sum()\n",
        "total_items_orders\n",
        "\n",
        "# 13. turn the item price into a float\n",
        "chipo.item_price.dtype\n",
        "dollarizer = lambda x: float(x[1:-1])\n",
        "chipo.item_price = chipo.item_price.apply(dollarizer)\n",
        "chipo.item_price.dtype\n",
        "\n",
        "# 14. what is the revenue\n",
        "revenue = (chipo['quantity']* chipo['item_price']).sum()\n",
        "print('Revenue was: &' + str(np.round(revenue,2)))\n",
        "\n",
        "# 15. how many orders\n",
        "orders = chipo.order_id.value_counts().count()\n",
        "orders\n",
        "\n",
        "# 16. average revenue per order\n",
        "chipo['revenue'] = chipo['quantity'] * chipo['item_price']\n",
        "order_grouped = chipo.groupby(by=['order_id']).sum() # total order per order id\n",
        "order_grouped.mean()['revenue'] # total order sum/ num of orders!\n",
        "\n",
        "#or\n",
        "chipo.groupby(by=['order_id']).sum().mean()['revenue']\n",
        "\n",
        "# 17. How many different items are sold\n",
        "chipo.item_name.value_counts().count()\n",
        "\n"
      ]
    }
  ]
}
