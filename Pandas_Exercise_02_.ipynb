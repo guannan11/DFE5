{
  "nbformat": 4,
  "nbformat_minor": 0,
  "metadata": {
    "colab": {
      "name": "Pandas_Exercise_02 .ipynb",
      "provenance": [],
      "authorship_tag": "ABX9TyMMg513QXUXmZ/48CZwoQtz",
      "include_colab_link": true
    },
    "kernelspec": {
      "name": "python3",
      "display_name": "Python 3"
    },
    "language_info": {
      "name": "python"
    }
  },
  "cells": [
    {
      "cell_type": "markdown",
      "metadata": {
        "id": "view-in-github",
        "colab_type": "text"
      },
      "source": [
        "<a href=\"https://colab.research.google.com/github/guannan11/DFE5/blob/main/Pandas_Exercise_02_.ipynb\" target=\"_parent\"><img src=\"https://colab.research.google.com/assets/colab-badge.svg\" alt=\"Open In Colab\"/></a>"
      ]
    },
    {
      "cell_type": "code",
      "execution_count": 12,
      "metadata": {
        "colab": {
          "base_uri": "https://localhost:8080/"
        },
        "id": "his11l_cug5H",
        "outputId": "e29216e5-58ae-45ba-96ee-473b6c24149a"
      },
      "outputs": [
        {
          "output_type": "execute_result",
          "data": {
            "text/plain": [
              "20"
            ]
          },
          "metadata": {},
          "execution_count": 12
        }
      ],
      "source": [
        "# 1. import libraries\n",
        "import pandas as pd\n",
        "\n",
        "# 3. assign to chipo (variable)\n",
        "url = 'https://raw.githubusercontent.com/justmarkham/DAT8/master/data/chipotle.tsv'\n",
        "chipo = pd.read_csv(url, sep = '\\t')\n",
        "\n",
        "chipo.head (10)\n",
        "\n",
        "# 4. products that more than $10\n",
        "prices = [float(value[1 : -1]) for value in chipo.item_price]\n",
        "chipo.item_price = prices\n",
        "chipo_filtered = chipo.drop_duplicates(['item_name','quantity','choice_description'])\n",
        "chipo_one_prod = chipo_filtered[chipo_filtered.quantity == 1]\n",
        "chipo_one_prod\n",
        "chipo.query('item_price > 10').item_name.nunique()\n",
        "\n",
        "# 5.price for each item\n",
        "chipo[(chipo['item_name'] == 'Chicken Bowl') & (chipo['quantity'] == 1)]\n",
        "\n",
        "# 6. sort item by name\n",
        "chipo.item_name.sort_values()\n",
        "\n",
        "# or\n",
        "chipo.sort_values(by = \"item_name\")\n",
        "\n",
        "# 7. how many orders of most expersive item \n",
        "chipo.sort_values(by = \"item_price\", ascending = False). head(1)\n",
        "\n",
        "# 8. total orders for Veggie Salad Bowl\n",
        "chipo_salad = chipo[chipo.item_name == \"Veggie Salad Bowl\"]\n",
        "len(chipo_salad)\n",
        "\n",
        "# 9. orders that contain more than one canned soda\n",
        "chipo_drink_steak_bowl =chipo[(chipo.item_name == \"Canned Soda\") & (chipo.quantity > 1)]\n",
        "len(chipo_drink_steak_bowl)\n"
      ]
    }
  ]
}