{
  "nbformat": 4,
  "nbformat_minor": 0,
  "metadata": {
    "colab": {
      "name": "09 Word2Vectors.ipynb",
      "provenance": [],
      "include_colab_link": true
    },
    "kernelspec": {
      "name": "python3",
      "display_name": "Python 3"
    }
  },
  "cells": [
    {
      "cell_type": "markdown",
      "metadata": {
        "id": "view-in-github",
        "colab_type": "text"
      },
      "source": [
        "<a href=\"https://colab.research.google.com/github/guannan11/DFE5/blob/main/W9D4-Word2Vectors.ipynb\" target=\"_parent\"><img src=\"https://colab.research.google.com/assets/colab-badge.svg\" alt=\"Open In Colab\"/></a>"
      ]
    },
    {
      "cell_type": "code",
      "metadata": {
        "id": "8Pcgpfvz0RGb"
      },
      "source": [
        "import numpy as np"
      ],
      "execution_count": null,
      "outputs": []
    },
    {
      "cell_type": "code",
      "metadata": {
        "id": "147TqC9T0cg5",
        "colab": {
          "base_uri": "https://localhost:8080/",
          "height": 35
        },
        "outputId": "90273b06-1ba8-4c40-f2bc-c8827a990847"
      },
      "source": [
        "# BODY -> body of string from which we will dervice our vectors\n",
        "corpus_raw = 'Richie Rich is rich. The rich person is a happy person. He and She are not rich.'\n",
        "corpus_lower = corpus_raw.lower()\n",
        "corpus_lower"
      ],
      "execution_count": null,
      "outputs": [
        {
          "output_type": "execute_result",
          "data": {
            "application/vnd.google.colaboratory.intrinsic+json": {
              "type": "string"
            },
            "text/plain": [
              "'richie rich is rich. the rich person is a happy person. he and she are not rich.'"
            ]
          },
          "metadata": {},
          "execution_count": 3
        }
      ]
    },
    {
      "cell_type": "code",
      "metadata": {
        "id": "tB1pYErB05gb",
        "colab": {
          "base_uri": "https://localhost:8080/"
        },
        "outputId": "8d820687-10cd-43cc-f2b7-1a04a152f069"
      },
      "source": [
        "words = []\n",
        "for word in corpus_lower.split():\n",
        "  if word == '.': # independent punctuation (not directly next to a word)\n",
        "    # if punctuation is not individual word but a part of word-> bye.\n",
        "    word = word.replace('.', '') # every punctuation that we don't want should be filtered here\n",
        "    words.append(word)\n",
        "  else:\n",
        "    words.append(word)\n",
        "\n",
        "print(words)\n",
        "# TO CONVERT TO VECTORS , we don't want repeating! \n",
        "# Which DS allows us to avoid repeating? SET!!\n",
        "print(len(words))\n",
        "unique_words = set(words)\n",
        "print(unique_words)\n",
        "print(len(unique_words))"
      ],
      "execution_count": null,
      "outputs": [
        {
          "output_type": "stream",
          "name": "stdout",
          "text": [
            "['richie', 'rich', 'is', 'rich.', 'the', 'rich', 'person', 'is', 'a', 'happy', 'person.', 'he', 'and', 'she', 'are', 'not', 'rich.']\n",
            "17\n",
            "{'richie', 'a', 'she', 'rich', 'and', 'person', 'the', 'are', 'he', 'rich.', 'not', 'is', 'happy', 'person.'}\n",
            "14\n"
          ]
        }
      ]
    },
    {
      "cell_type": "code",
      "metadata": {
        "id": "DjOiG1jl1i1m",
        "colab": {
          "base_uri": "https://localhost:8080/"
        },
        "outputId": "19d36ad5-d6e9-4afd-806a-23de439a5783"
      },
      "source": [
        "word2int = {} # this was wht we had in imdb yesterday (word_index)\n",
        "int2word = {}\n",
        "vocab_size = len(unique_words)\n",
        "for i,word in enumerate(unique_words):\n",
        "  # 0,word1 - 1,word2 - 2, word3\n",
        "  word2int[word] =i \n",
        "  int2word[i] = word\n",
        "\n",
        "print(word2int)\n",
        "print(int2word)\n",
        "print(word2int['rich'])"
      ],
      "execution_count": null,
      "outputs": [
        {
          "output_type": "stream",
          "name": "stdout",
          "text": [
            "{'richie': 0, 'a': 1, 'she': 2, 'rich': 3, 'and': 4, 'person': 5, 'the': 6, 'are': 7, 'he': 8, 'not': 9, 'is': 10, 'happy': 11}\n",
            "{0: 'richie', 1: 'a', 2: 'she', 3: 'rich', 4: 'and', 5: 'person', 6: 'the', 7: 'are', 8: 'he', 9: 'not', 10: 'is', 11: 'happy'}\n",
            "3\n"
          ]
        }
      ]
    },
    {
      "cell_type": "code",
      "metadata": {
        "id": "cKxVFQtT23IR"
      },
      "source": [
        "# Challenge-> Convert above steps to a lambda function for dictionary reversal "
      ],
      "execution_count": null,
      "outputs": []
    }
  ]
}