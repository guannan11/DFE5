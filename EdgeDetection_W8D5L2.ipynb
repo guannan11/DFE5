{
  "nbformat": 4,
  "nbformat_minor": 0,
  "metadata": {
    "colab": {
      "name": "EdgeDetection.ipynb",
      "provenance": [],
      "collapsed_sections": [],
      "include_colab_link": true
    },
    "kernelspec": {
      "name": "python3",
      "display_name": "Python 3"
    },
    "language_info": {
      "name": "python"
    }
  },
  "cells": [
    {
      "cell_type": "markdown",
      "metadata": {
        "id": "view-in-github",
        "colab_type": "text"
      },
      "source": [
        "<a href=\"https://colab.research.google.com/github/guannan11/DFE5/blob/main/EdgeDetection_W8D5L2.ipynb\" target=\"_parent\"><img src=\"https://colab.research.google.com/assets/colab-badge.svg\" alt=\"Open In Colab\"/></a>"
      ]
    },
    {
      "cell_type": "code",
      "metadata": {
        "colab": {
          "base_uri": "https://localhost:8080/",
          "height": 341
        },
        "id": "UAWwu_dima7q",
        "outputId": "5e230bbe-bdd8-44c0-b9ee-322f96b827f6"
      },
      "source": [
        "import numpy as np\n",
        "import matplotlib.pyplot as plt\n",
        "\n",
        "i1 = np.array([np.array([200,200]),np.array([200,200])])\n",
        "i1\n",
        "i2 = np.array([np.array([200,200]),np.array([0,0])])\n",
        "i3 = np.array([np.array([200,0]),np.array([200,0])])\n",
        "plt.figure(figsize=(5,5))\n",
        "plt.imshow(i1)"
      ],
      "execution_count": null,
      "outputs": [
        {
          "output_type": "execute_result",
          "data": {
            "text/plain": [
              "<matplotlib.image.AxesImage at 0x7fe1d13495d0>"
            ]
          },
          "metadata": {
            "tags": []
          },
          "execution_count": 2
        },
        {
          "output_type": "display_data",
          "data": {
            "image/png": "[encoded data removed]",
            "text/plain": [
              "<Figure size 360x360 with 1 Axes>"
            ]
          },
          "metadata": {
            "tags": [],
            "needs_background": "light"
          }
        }
      ]
    },
    {
      "cell_type": "code",
      "metadata": {
        "colab": {
          "base_uri": "https://localhost:8080/",
          "height": 286
        },
        "id": "GTLsOIARm4RM",
        "outputId": "22e54fff-5ba4-4073-94d3-d427f8897899"
      },
      "source": [
        "plt.imshow(i2)"
      ],
      "execution_count": null,
      "outputs": [
        {
          "output_type": "execute_result",
          "data": {
            "text/plain": [
              "<matplotlib.image.AxesImage at 0x7fe1d0dd5710>"
            ]
          },
          "metadata": {
            "tags": []
          },
          "execution_count": 3
        },
        {
          "output_type": "display_data",
          "data": {
            "image/png": "[encoded data removed]",
            "text/plain": [
              "<Figure size 432x288 with 1 Axes>"
            ]
          },
          "metadata": {
            "tags": [],
            "needs_background": "light"
          }
        }
      ]
    },
    {
      "cell_type": "code",
      "metadata": {
        "colab": {
          "base_uri": "https://localhost:8080/",
          "height": 286
        },
        "id": "qEOGEKLHoJAd",
        "outputId": "173a5be3-0651-4ca2-ca28-bb0e74180562"
      },
      "source": [
        "plt.imshow(i3)"
      ],
      "execution_count": null,
      "outputs": [
        {
          "output_type": "execute_result",
          "data": {
            "text/plain": [
              "<matplotlib.image.AxesImage at 0x7fe1d0d480d0>"
            ]
          },
          "metadata": {
            "tags": []
          },
          "execution_count": 4
        },
        {
          "output_type": "display_data",
          "data": {
            "image/png": "[encoded data removed]",
            "text/plain": [
              "<Figure size 432x288 with 1 Axes>"
            ]
          },
          "metadata": {
            "tags": [],
            "needs_background": "light"
          }
        }
      ]
    },
    {
      "cell_type": "code",
      "metadata": {
        "colab": {
          "base_uri": "https://localhost:8080/"
        },
        "id": "_XmCK2DSoVL4",
        "outputId": "bd589ae7-9d5f-424c-aaa9-9e461f7a97f5"
      },
      "source": [
        "k_horrizontal = np.array([np.array([2,2]),np.array([-2,-2])])\n",
        "k_vertical = np.array([np.array([2,-2]),np.array([2,-2])])\n",
        "k_horrizontal"
      ],
      "execution_count": null,
      "outputs": [
        {
          "output_type": "execute_result",
          "data": {
            "text/plain": [
              "array([[ 2,  2],\n",
              "       [-2, -2]])"
            ]
          },
          "metadata": {
            "tags": []
          },
          "execution_count": 6
        }
      ]
    },
    {
      "cell_type": "code",
      "metadata": {
        "id": "NeJHeXlPo-Qw"
      },
      "source": [
        "def applyKernel(img, kernel):\n",
        "  return np.sum(np.multiply(img,kernel))\n",
        "\n",
        "found = lambda val:\"Edge Detected\" if val>0 else \"No edge detected\"\n",
        "\n"
      ],
      "execution_count": null,
      "outputs": []
    },
    {
      "cell_type": "code",
      "metadata": {
        "colab": {
          "base_uri": "https://localhost:8080/"
        },
        "id": "pDTySvtBpmXy",
        "outputId": "9a17fbfb-96d7-46f8-8901-6eae67fcdd90"
      },
      "source": [
        "print(\"Horizontal Kernel on Image1\")\n",
        "print(found(applyKernel(i1,k_horrizontal)))\n"
      ],
      "execution_count": null,
      "outputs": [
        {
          "output_type": "stream",
          "text": [
            "Horizontal Kernel on Image1\n",
            "No edge detected\n"
          ],
          "name": "stdout"
        }
      ]
    },
    {
      "cell_type": "code",
      "metadata": {
        "colab": {
          "base_uri": "https://localhost:8080/"
        },
        "id": "IZfDGC88p31z",
        "outputId": "6b6ab39e-7009-493d-e2ac-14ad38804704"
      },
      "source": [
        "print(\"Vertical Kernel on Image1\")\n",
        "print(found(applyKernel(i1,k_vertical)))"
      ],
      "execution_count": null,
      "outputs": [
        {
          "output_type": "stream",
          "text": [
            "Vertical Kernel on Image1\n",
            "No edge detected\n"
          ],
          "name": "stdout"
        }
      ]
    },
    {
      "cell_type": "code",
      "metadata": {
        "colab": {
          "base_uri": "https://localhost:8080/"
        },
        "id": "07KRxm-Ip-vA",
        "outputId": "4977c027-8caa-4609-9d95-4aa54c45dd2d"
      },
      "source": [
        "print(\"Horizontal Kernel on Image2\")\n",
        "print(found(applyKernel(i2,k_horrizontal)))"
      ],
      "execution_count": null,
      "outputs": [
        {
          "output_type": "stream",
          "text": [
            "Horizontal Kernel on Image2\n",
            "Edge Detected\n"
          ],
          "name": "stdout"
        }
      ]
    },
    {
      "cell_type": "code",
      "metadata": {
        "colab": {
          "base_uri": "https://localhost:8080/"
        },
        "id": "A6U2ZLgvsNeZ",
        "outputId": "e806138b-4ec5-4ab2-cf51-39f34d0b5929"
      },
      "source": [
        "print(\"Vertical Kernel on Image2\")\n",
        "print(found(applyKernel(i2,k_vertical)))"
      ],
      "execution_count": null,
      "outputs": [
        {
          "output_type": "stream",
          "text": [
            "Vertical Kernel on Image2\n",
            "No edge detected\n"
          ],
          "name": "stdout"
        }
      ]
    },
    {
      "cell_type": "code",
      "metadata": {
        "colab": {
          "base_uri": "https://localhost:8080/"
        },
        "id": "LSg3iDNMsTZd",
        "outputId": "0659bb79-4589-4a9a-cee4-3e9e4dfee7b8"
      },
      "source": [
        "print(\"Horizontal Kernel on Image3\")\n",
        "print(found(applyKernel(i3,k_horrizontal)))\n",
        "print(\"Vertical Kernel on Image3\")\n",
        "print(found(applyKernel(i3,k_vertical)))"
      ],
      "execution_count": null,
      "outputs": [
        {
          "output_type": "stream",
          "text": [
            "Horizontal Kernel on Image3\n",
            "No edge detected\n",
            "Vertical Kernel on Image3\n",
            "Edge Detected\n"
          ],
          "name": "stdout"
        }
      ]
    },
    {
      "cell_type": "code",
      "metadata": {
        "colab": {
          "base_uri": "https://localhost:8080/",
          "height": 341
        },
        "id": "R7zqUUkgscRX",
        "outputId": "f1c9ab1f-8190-4d62-982c-ae68db0867bd"
      },
      "source": [
        "i4 = np.array([np.array([200,0]),np.array([0,200])])\n",
        "plt.figure(figsize=(5,5))\n",
        "plt.imshow(i4)"
      ],
      "execution_count": null,
      "outputs": [
        {
          "output_type": "execute_result",
          "data": {
            "text/plain": [
              "<matplotlib.image.AxesImage at 0x7fe1ccafb210>"
            ]
          },
          "metadata": {
            "tags": []
          },
          "execution_count": 13
        },
        {
          "output_type": "display_data",
          "data": {
            "image/png": "[encoded data removed]",
            "text/plain": [
              "<Figure size 360x360 with 1 Axes>"
            ]
          },
          "metadata": {
            "tags": [],
            "needs_background": "light"
          }
        }
      ]
    },
    {
      "cell_type": "code",
      "metadata": {
        "id": "ixWPgLNguPdZ"
      },
      "source": [
        "k_pos_diagonal = np.array([np.array([2,-2]),np.array([-2,2])])\n",
        "k_neg_diagonal = np.array([np.array([-2,2]),np.array([2,-2])])"
      ],
      "execution_count": null,
      "outputs": []
    },
    {
      "cell_type": "code",
      "metadata": {
        "colab": {
          "base_uri": "https://localhost:8080/"
        },
        "id": "I85QL65xueiO",
        "outputId": "c43e709f-204d-4cb7-9b05-1f399154d64b"
      },
      "source": [
        "print(\"Pos Diagonal Kernel on Image4\")\n",
        "print(found(applyKernel(i4,k_pos_diagonal)))"
      ],
      "execution_count": null,
      "outputs": [
        {
          "output_type": "stream",
          "text": [
            "Pos Diagonal Kernel on Image4\n",
            "Edge Detected\n"
          ],
          "name": "stdout"
        }
      ]
    },
    {
      "cell_type": "code",
      "metadata": {
        "colab": {
          "base_uri": "https://localhost:8080/"
        },
        "id": "mHAlBbelunV4",
        "outputId": "3b802e00-03a0-4d8e-e393-7a3895621ff9"
      },
      "source": [
        "print(\"Neg Diagonal Kernel on Image4\")\n",
        "print(found(applyKernel(i4,k_neg_diagonal)))"
      ],
      "execution_count": null,
      "outputs": [
        {
          "output_type": "stream",
          "text": [
            "Neg Diagonal Kernel on Image4\n",
            "No edge detected\n"
          ],
          "name": "stdout"
        }
      ]
    },
    {
      "cell_type": "code",
      "metadata": {
        "id": "sy2_Z0lEurbN"
      },
      "source": [
        ""
      ],
      "execution_count": null,
      "outputs": []
    }
  ]
}