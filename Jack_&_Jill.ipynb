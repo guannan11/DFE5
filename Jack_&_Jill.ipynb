{
  "nbformat": 4,
  "nbformat_minor": 0,
  "metadata": {
    "colab": {
      "name": "Jack & Jill.ipynb",
      "provenance": [],
      "collapsed_sections": [],
      "authorship_tag": "ABX9TyOffFJF4dvl7GkWPCYsFImG",
      "include_colab_link": true
    },
    "kernelspec": {
      "name": "python3",
      "display_name": "Python 3"
    },
    "language_info": {
      "name": "python"
    }
  },
  "cells": [
    {
      "cell_type": "markdown",
      "metadata": {
        "id": "view-in-github",
        "colab_type": "text"
      },
      "source": [
        "<a href=\"https://colab.research.google.com/github/guannan11/DFE5/blob/main/Jack_%26_Jill.ipynb\" target=\"_parent\"><img src=\"https://colab.research.google.com/assets/colab-badge.svg\" alt=\"Open In Colab\"/></a>"
      ]
    },
    {
      "cell_type": "code",
      "execution_count": 8,
      "metadata": {
        "id": "3ioI5Lzn7rWn",
        "colab": {
          "base_uri": "https://localhost:8080/"
        },
        "outputId": "efb1d955-ea10-4e6d-bfc9-64c943856ba4"
      },
      "outputs": [
        {
          "output_type": "stream",
          "name": "stdout",
          "text": [
            "Jack and Jill were walking up the hill on the way to the Supermarket to get some mineral water when Jack tripped over a pothole in the road. He fell down and broke his smartphone. \"Oh dear!\" said Jack. Actually, , he didn’t say \"Oh dear\", he used some words that Jill was sure his mother wouldn’t approve of and went on to make some descriptive comments on what he thought of the state of the roads leading up the hill. Jill was so shocked that she didn’t look where she was going and fell down, too, tumbling all the way down the hill. Jack got up and went home to mend his phone. Jill suggested using her granny’s remedy of vinegar and brown paper to fix the phone. Jack replied with a comment that got him grounded for a week during which time he repaired his phone with duct tape and superglue but it was never the same again. \n"
          ]
        }
      ],
      "source": [
        "import string\n",
        "data = 'Jack and Jill were walking up the hill on the way to the Supermarket to get some mineral water when Jack tripped over a pothole in the road. He fell down and broke his smartphone. “Oh dear!” said Jack. Actually, he didn’t say “Oh dear”, he used some words that Jill was sure his mother wouldn’t approve of and went on to make some descriptive comments on what he thought of the state of the roads leading up the hill. “Awful”, was one of the more polite words. Jill was so shocked that she didn’t look where she was going and fell down, too, tumbling all the way down the hill. Jack got up and went home to mend his phone. Jill suggested using her granny’s remedy of vinegar and brown paper to fix the phone. Jack replied with a comment that got him grounded for a week during which time he repaired his phone with duct tape and superglue but it was never the same again.'\n",
        "data = ('Jack and jill were walking up the hill on the way to the Supermarket to get some mineral water' \n",
        "+ ' when Jack tripped over a pothole in the road.He fell down and broke his smartphone.    \"Oh dear!\" said jack'\n",
        "+ ';actually,,he didn’t say \"Oh dear\",he used some words that Jill was sure his mother wouldn’t approve of and '\n",
        "+ 'went on to make some descriptive comments on what he thought of the state of the roads leading up the hill.'\n",
        "+ 'jill was so shocked that she didn’t look where she was going and fell down,too, tumbling all the way down the '\n",
        "+ 'hill;  jack got up and went home to mend his phone..    jill suggested using her granny’s remedy of vinegar and '\n",
        "+ 'brown paper to fix the phone; Jack replied with a comment that got him grounded for a week during which time he '\n",
        "+ 'repaired his phone with duct tape and superglue but it was never the same again .')\n",
        "\n",
        "##  checking speech marks/single quotes\n",
        "def check_quotes (text):\n",
        "    speech_mark = '\"'\n",
        "    single_quote = \"'\"\n",
        "    while True:\n",
        "        srch_result = quotes_match(text, speech_mark, single_quote)\n",
        "        if srch_result[0] == True:\n",
        "            if len(srch_result[1]) == 0:\n",
        "                break\n",
        "            else:\n",
        "                text = srch_result[1]\n",
        "        else:\n",
        "            raise Exception(\"Quotation marks do not match\")\n",
        "\n",
        "## returns two values as a tuple\n",
        "def quotes_match(srch_text, srch1, srch2):\n",
        "    if srch1 in srch_text:\n",
        "      start = srch_text.find(srch1)\n",
        "      end = srch_text.find(srch1,start + 1)\n",
        "      block = srch_text[start:end]\n",
        "      if srch2 not in block:\n",
        "          return True, srch_text[end+1:]\n",
        "      else:\n",
        "          return False, \"\"\n",
        "\n",
        "## recombine the sentences into a single piece of text\n",
        "def displayText(sentences):\n",
        "    cleaned_text = \"\"\n",
        "    for x in sentences:\n",
        "        cleaned_text = cleaned_text + x\n",
        "    print(cleaned_text)\n",
        "\n",
        "## split the text into sentences, fix spaces at the end of \n",
        "## sentences and capitalise the first letter in each sentence\n",
        "def fix_sentence_ending(sentence):\n",
        "    if(len(sentence.strip()) == 0):\n",
        "        return \"\";\n",
        "    else:\n",
        "        temp = sentence.strip() + \". \"\n",
        "        return temp[0].upper() + temp[1:]\n",
        "\n",
        "## replace semi-colons with full stops\n",
        "def fix_semicolons(text):\n",
        "    return text.replace(\";\",\".\")\n",
        "\n",
        "## fix spacing after commasd\n",
        "def fix_commas(text):\n",
        "    text = text.replace(\", \",\",\")\n",
        "    return text.replace(\",\",\", \")\n",
        "\n",
        "## all punctuation chars\n",
        "def fix_duplicate_punctuation(text):\n",
        "    for char in string.punctuation:\n",
        "        text = text.replace(char+char,char)\n",
        "        return text\n",
        "\n",
        "## capitalised the names\n",
        "def fix_proper_names(text):\n",
        "    for name in proper_names:\n",
        "        text = text.replace(name, name.capitalize())\n",
        "    return text\n",
        "\n",
        "## enhancement, define list of proper names\n",
        "proper_names = {\"jill\",\"jack\"}\n",
        "\n",
        "data = fix_proper_names(data)\n",
        "\n",
        "## fix duplicated punctuation if any\n",
        "data = fix_duplicate_punctuation(data)\n",
        "\n",
        "## replace the semi-colons with full stops\n",
        "## trailing spaces will be fixed in fix_sentence_ending function\n",
        "data = fix_semicolons(data)\n",
        "data = fix_commas(data)\n",
        "\n",
        "def check_quotes(text):\n",
        "    srch = \"'\"\n",
        "    if srch in text:\n",
        "        start = text.find(srch)\n",
        "        end = text.find(srch[start])\n",
        "        block = text[start:end]\n",
        "    srch = '\"'\n",
        "    if srch in text:\n",
        "        start = text.find(srch)\n",
        "        end = text.find(srch[start])\n",
        "        block = text[start:end] \n",
        "\n",
        "## break up the text into sentences\n",
        "sentences = data.split(\".\")\n",
        "for i in range(len(sentences)):\n",
        "    x = sentences[i]\n",
        "    sentences[i] = fix_sentence_ending(x)\n",
        "\n",
        "## print(sentences[i])\n",
        "displayText(sentences)\n",
        "\n"
      ]
    },
    {
      "cell_type": "markdown",
      "source": [
        ""
      ],
      "metadata": {
        "id": "sVX3Un-gEkpY"
      }
    },
    {
      "cell_type": "code",
      "source": [
        ""
      ],
      "metadata": {
        "id": "PFQqPvdB6WA1"
      },
      "execution_count": null,
      "outputs": []
    }
  ]
}