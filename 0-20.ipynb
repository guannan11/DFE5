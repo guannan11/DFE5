{
  "nbformat": 4,
  "nbformat_minor": 0,
  "metadata": {
    "colab": {
      "name": "Untitled3.ipynb",
      "provenance": [],
      "authorship_tag": "ABX9TyNfQa9TqD1NrTTBL/2IkfZs",
      "include_colab_link": true
    },
    "kernelspec": {
      "name": "python3",
      "display_name": "Python 3"
    },
    "language_info": {
      "name": "python"
    }
  },
  "cells": [
    {
      "cell_type": "markdown",
      "metadata": {
        "id": "view-in-github",
        "colab_type": "text"
      },
      "source": [
        "<a href=\"https://colab.research.google.com/github/guannan11/DFE5/blob/main/0-20.ipynb\" target=\"_parent\"><img src=\"https://colab.research.google.com/assets/colab-badge.svg\" alt=\"Open In Colab\"/></a>"
      ]
    },
    {
      "cell_type": "code",
      "execution_count": 8,
      "metadata": {
        "colab": {
          "base_uri": "https://localhost:8080/"
        },
        "id": "O_wejyGeqc9k",
        "outputId": "acddf256-6fb4-4d6f-c95d-8110abe12970"
      },
      "outputs": [
        {
          "output_type": "stream",
          "name": "stdout",
          "text": [
            "30is out of range\n",
            "Empty valve is invalid\n",
            "forteenis not in lists\n",
            "022is out of range\n",
            "einundzwanzigis not in lists\n",
            "============VALID DATA===========\n",
            "[16, 10, 8, 3, 7]\n",
            "[8, 9, 19, 20, 4]\n",
            "[6, 7, 15, 5, 0]\n",
            "[13, 1, 2, 8, 3]\n",
            "[12, 11, 8, 15, 7]\n",
            "[1, 3, 14, 18, 20]\n",
            "[5, 3, 19, 20, 0]\n",
            "===========INVALID DATA==========\n",
            "['1', '30', '2', '5', '7']\n",
            "['six', 'neuf', 'seize', 'zero', '']\n",
            "['fourteen', 'Eleven', 'Forteen', 'eight', 'Twenty']\n",
            "['018', '09', '09', '022', '04']\n",
            "['einundzwanzig', 'Vierzehn', 'Eins', 'zwei', 'Vier']\n"
          ]
        }
      ],
      "source": [
        "## check each lookup to see if text in there \n",
        "## if it is the \"index\" will be equivalent to the value\n",
        "## print out of error not required for challenge\n",
        "def check_for_valid_str(text):\n",
        "    text = text.lower()\n",
        "    if (str.isdigit(text)):\n",
        "        if(int(text) >= 0 and int(text) <= 20):\n",
        "            return int(text)\n",
        "        else:\n",
        "            print(text + \"is out of range\")\n",
        "            return -1\n",
        "    elif (text in LookupGerman):\n",
        "            return LookupGerman.index(text)\n",
        "    elif (text in LookupFrench):\n",
        "            return LookupFrench.index(text)\n",
        "    elif (text in LookupEnglish):\n",
        "            return LookupEnglish.index(text)\n",
        "    else:\n",
        "        if (len(text) == 0):\n",
        "                print(\"Empty valve is invalid\")\n",
        "        else:\n",
        "                print(text + \"is not in lists\")\n",
        "        return -1\n",
        "\n",
        "## function to loop around contects of one set of date\n",
        "## checking one element at a time\n",
        "def check_dataset(datarow):\n",
        "    temp = []\n",
        "    for text in datarow:\n",
        "        result = check_for_valid_str(text)\n",
        "        if (result == -1):\n",
        "            return False\n",
        "        else:\n",
        "            temp.append(result)\n",
        "    valid_data.append(temp)\n",
        "    return True\n",
        "\n",
        "data = [[\"16\", \"10\", \"8\", \"3\", \"7\"],\n",
        "       [\"8\", \"09\", \"19\", \"20\", \"4\"],\n",
        "       [\"Sechs\", \"Acht\", \"Sechzehn\", \"Funf\", \"null\"],\n",
        "       [\"1\", \"30\", \"2\", \"5\", \"7\"],\n",
        "       [\"Vierzehn\", \"Eins\", \"zwei\", \"Neun\", \"Drei\"],\n",
        "       [\"six\", \"neuf\", \"seize\", \"zero\",\"\"],\n",
        "       [\"fourteen\", \"Eleven\", \"Forteen\", \"eight\", \"Twenty\"],\n",
        "       [\"Douze\", \"Onze\", \"Huit\", \"Quinze\", \"Sept\"],\n",
        "       [\"018\", \"09\", \"09\", \"022\", \"04\"],\n",
        "       [\"un\", \"trois\", \"quatorze\", \"dix-huit\", \"vingt\"],\n",
        "       [\"Five\", \"Three\", \"Nineteen\", \"Twenty\", \"zero\"],\n",
        "       [\"einundzwanzig\", \"Vierzehn\", \"Eins\", \"zwei\",\"Vier\"]]  \n",
        "\n",
        "def print_data(data_list):\n",
        "    for item in data_list:\n",
        "        print(item) \n",
        "\n",
        "####   LOOKUP LISTS   ####\n",
        "## Note lookup elements are all LOWER CASE\n",
        "LookupEnglish = [\"zero\",\"one\",\"two\",\"three\",\"four\",\"five\",\"six\",\"seven\",\"eight\",\"nine\",\"ten\",\"eleven\",\"twelve\",\"thirteen\",\"fourteen\",\"fifteen\",\"sixteen\",\"seventeen\",\"eighteen\",\"nineteen\",\"twenty\"]\n",
        "LookupGerman = [\"null\",\"eins\", \"zwei\", \"drei\", \"vier\",\"funf\",\"sechs\", \"acht\", \"neun\", \"zehn\",\"elf\",\"zwolf\",\"dreizehn\",\"vierzehn\",\"funfzehn\",\"sechzehn\",\"siebzehn\",\"achtzehn\",\"neunzehn\",\"zwanzig\"]\n",
        "LookupFrench = [\"zero\",\"un\",\"deux\",\"trois\",\"quatre\",\"cinq\",\"six\",\"sept\",\"huit\",\"neuf\",\"dix\",\"onze\",\"douze\",\"treize\",\"quatorze\",\"quinze\",\"seize\",\"dix-sept\",\"dix-huit\",\"dix-neuf\",\"vingt\"]\n",
        "\n",
        "rejected_data = []\n",
        "valid_data = []\n",
        "\n",
        "for data_set in data:\n",
        "    if(check_dataset(data_set) == False):\n",
        "        rejected_data.append(data_set)\n",
        "print(\"============VALID DATA===========\")\n",
        "print_data(valid_data)\n",
        "print(\"===========INVALID DATA==========\")\n",
        "print_data(rejected_data)\n",
        "\n"
      ]
    },
    {
      "cell_type": "markdown",
      "source": [
        ""
      ],
      "metadata": {
        "id": "RZlz8AXIzDo-"
      }
    }
  ]
}